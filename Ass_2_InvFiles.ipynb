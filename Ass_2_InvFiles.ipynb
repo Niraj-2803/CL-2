{
 "cells": [
  {
   "cell_type": "code",
   "execution_count": 22,
   "id": "8e0ed048",
   "metadata": {},
   "outputs": [],
   "source": [
    "from collections import defaultdict"
   ]
  },
  {
   "cell_type": "code",
   "execution_count": 23,
   "id": "e312afd0",
   "metadata": {},
   "outputs": [],
   "source": [
    "# Step 1: Build the inverted index\n",
    "def build_inverted_index(documents):\n",
    "    inverted_index = defaultdict(list)\n",
    "    \n",
    "    for doc_id, doc in enumerate(documents):\n",
    "        for term in set(doc.lower().split()):  # Tokenize and avoid duplicates\n",
    "            inverted_index[term].append(doc_id)\n",
    "    \n",
    "    return inverted_index"
   ]
  },
  {
   "cell_type": "code",
   "execution_count": 24,
   "id": "b9a5746e",
   "metadata": {},
   "outputs": [],
   "source": [
    "# Step 2: Search for documents containing terms\n",
    "def search(query, inverted_index):\n",
    "    return [inverted_index.get(term, []) for term in query.lower().split()]"
   ]
  },
  {
   "cell_type": "code",
   "execution_count": 25,
   "id": "4409d6bb",
   "metadata": {},
   "outputs": [],
   "source": [
    "# Sample documents\n",
    "documents = [\n",
    "    \"The quick brown fox jumps over the lazy dog\",\n",
    "    \"Never jump over the lazy dog quickly\",\n",
    "    \"A brown fox is quick and jumps high\",\n",
    "]"
   ]
  },
  {
   "cell_type": "code",
   "execution_count": 26,
   "id": "bb096798",
   "metadata": {},
   "outputs": [],
   "source": [
    "# Build and query the inverted index\n",
    "inverted_index = build_inverted_index(documents)\n",
    "query = \"brown dog\"\n",
    "result = search(query, inverted_index)"
   ]
  },
  {
   "cell_type": "code",
   "execution_count": 27,
   "id": "115457b4",
   "metadata": {},
   "outputs": [
    {
     "name": "stdout",
     "output_type": "stream",
     "text": [
      "Documents containing brown: [0, 2]\n",
      "Documents containing dog: [0, 1]\n"
     ]
    }
   ],
   "source": [
    "# Display results\n",
    "for idx, term in enumerate(query.split()):\n",
    "    print(f\"Documents containing {term}:\", result[idx])"
   ]
  },
  {
   "cell_type": "code",
   "execution_count": null,
   "id": "d5ec41d9",
   "metadata": {},
   "outputs": [],
   "source": []
  }
 ],
 "metadata": {
  "kernelspec": {
   "display_name": "Python 3 (ipykernel)",
   "language": "python",
   "name": "python3"
  },
  "language_info": {
   "codemirror_mode": {
    "name": "ipython",
    "version": 3
   },
   "file_extension": ".py",
   "mimetype": "text/x-python",
   "name": "python",
   "nbconvert_exporter": "python",
   "pygments_lexer": "ipython3",
   "version": "3.9.12"
  }
 },
 "nbformat": 4,
 "nbformat_minor": 5
}
