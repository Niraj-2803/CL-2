{
 "cells": [
  {
   "cell_type": "code",
   "execution_count": 2,
   "id": "e8d05387",
   "metadata": {},
   "outputs": [
    {
     "name": "stdout",
     "output_type": "stream",
     "text": [
      "temperature 23\n",
      "200 OK\n"
     ]
    }
   ],
   "source": [
    "import http.client , urllib.request,urllib.parse\n",
    "key = 'XTGX9YZLXB2DQ2UO' # copy the write API key\n",
    "\n",
    "t=int(22)\n",
    "\n",
    "while True:\n",
    "    t=t+1\n",
    "    print (\"temperature\",t)\n",
    "    params=urllib.parse.urlencode({'field1':t,'key':key})\n",
    "    headers={\"Content-type\":\"application/x-www-form-urlencoded\",\"Accept\":\"text/plain\"}\n",
    "    con=http.client.HTTPConnection(\"api.thingspeak.com\")\n",
    "    con.request(\"POST\",\"/update\",params,headers)\n",
    "    response=con.getresponse()\n",
    "    print (response.status,response.reason)\n",
    "    data=response.read()\n",
    "    con.close()\n",
    "    break"
   ]
  },
  {
   "cell_type": "code",
   "execution_count": null,
   "id": "18c257cb",
   "metadata": {},
   "outputs": [],
   "source": []
  }
 ],
 "metadata": {
  "kernelspec": {
   "display_name": "Python 3 (ipykernel)",
   "language": "python",
   "name": "python3"
  },
  "language_info": {
   "codemirror_mode": {
    "name": "ipython",
    "version": 3
   },
   "file_extension": ".py",
   "mimetype": "text/x-python",
   "name": "python",
   "nbconvert_exporter": "python",
   "pygments_lexer": "ipython3",
   "version": "3.9.12"
  }
 },
 "nbformat": 4,
 "nbformat_minor": 5
}
