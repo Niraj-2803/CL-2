{
 "cells": [
  {
   "cell_type": "code",
   "execution_count": 1,
   "id": "927036a8",
   "metadata": {},
   "outputs": [],
   "source": [
    "import hashlib  # For hashing to ensure data integrity\n",
    "from cryptography.fernet import Fernet  # For encryption\n",
    "import random  # For simulating sensor data"
   ]
  },
  {
   "cell_type": "code",
   "execution_count": 2,
   "id": "957933fa",
   "metadata": {},
   "outputs": [],
   "source": [
    "# Generate an encryption key\n",
    "key = Fernet.generate_key()\n",
    "cipher = Fernet(key)"
   ]
  },
  {
   "cell_type": "code",
   "execution_count": 3,
   "id": "fc4be379",
   "metadata": {},
   "outputs": [],
   "source": [
    "def get_sensor_data():\n",
    "    return random.uniform(50, 100)  # Random temperature between 50°C and 100°C\n",
    "\n",
    "# Encrypt the sensor data\n",
    "def encrypt_data(data, cipher):\n",
    "    return cipher.encrypt(data.encode())\n",
    "\n",
    "# Decrypt the sensor data\n",
    "def decrypt_data(encrypted_data, cipher):\n",
    "    return cipher.decrypt(encrypted_data).decode()\n",
    "\n",
    "# Verify data integrity using hashing\n",
    "def verify_data_integrity(data):\n",
    "    return hashlib.sha256(data.encode()).hexdigest()"
   ]
  },
  {
   "cell_type": "code",
   "execution_count": null,
   "id": "431d244b",
   "metadata": {},
   "outputs": [],
   "source": []
  }
 ],
 "metadata": {
  "kernelspec": {
   "display_name": "Python 3 (ipykernel)",
   "language": "python",
   "name": "python3"
  },
  "language_info": {
   "codemirror_mode": {
    "name": "ipython",
    "version": 3
   },
   "file_extension": ".py",
   "mimetype": "text/x-python",
   "name": "python",
   "nbconvert_exporter": "python",
   "pygments_lexer": "ipython3",
   "version": "3.9.12"
  }
 },
 "nbformat": 4,
 "nbformat_minor": 5
}
